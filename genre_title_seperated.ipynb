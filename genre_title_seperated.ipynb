{
 "cells": [
  {
   "cell_type": "code",
   "execution_count": 3,
   "metadata": {},
   "outputs": [
    {
     "name": "stdout",
     "output_type": "stream",
     "text": [
      "The nb_black extension is already loaded. To reload it, use:\n",
      "  %reload_ext nb_black\n"
     ]
    },
    {
     "data": {
      "application/javascript": [
       "\n",
       "            setTimeout(function() {\n",
       "                var nbb_cell_id = 3;\n",
       "                var nbb_unformatted_code = \"from IPython.core.debugger import set_trace\\n\\n%load_ext nb_black\\n\\nimport pandas as pd\\nimport numpy as np\\nimport numpy\\nimport os\\nimport matplotlib.pyplot as plt\\nimport time\\n\\nfrom tensorflow.keras.utils import to_categorical\\n\\nfrom nltk.corpus import stopwords\\nimport nltk\\n\\nfrom nltk.tokenize import word_tokenize\\nfrom nltk.stem import PorterStemmer\\n\\nfrom collections import Counter\\n\\nfrom keras.preprocessing.text import Tokenizer\\n\\nfrom keras_preprocessing.sequence import pad_sequences\\n\\nfrom imblearn.over_sampling import SMOTE\\n\\nfrom keras.models import Sequential\\nfrom keras.layers import Embedding, LSTM, Dense, Dropout, Bidirectional\\nfrom keras.initializers import Constant\\nfrom tensorflow.keras.optimizers import Adam\\nfrom keras.callbacks import EarlyStopping\\n\\n\\nimport random\\nimport re\\n\\n\\nfrom sklearn.model_selection import train_test_split\\nimport pickle\\nfrom sklearn.metrics import accuracy_score\\n\\nplt.style.use(style=\\\"seaborn\\\")\\n%matplotlib inline\";\n",
       "                var nbb_formatted_code = \"from IPython.core.debugger import set_trace\\n\\n%load_ext nb_black\\n\\nimport pandas as pd\\nimport numpy as np\\nimport numpy\\nimport os\\nimport matplotlib.pyplot as plt\\nimport time\\n\\nfrom tensorflow.keras.utils import to_categorical\\n\\nfrom nltk.corpus import stopwords\\nimport nltk\\n\\nfrom nltk.tokenize import word_tokenize\\nfrom nltk.stem import PorterStemmer\\n\\nfrom collections import Counter\\n\\nfrom keras.preprocessing.text import Tokenizer\\n\\nfrom keras_preprocessing.sequence import pad_sequences\\n\\nfrom imblearn.over_sampling import SMOTE\\n\\nfrom keras.models import Sequential\\nfrom keras.layers import Embedding, LSTM, Dense, Dropout, Bidirectional\\nfrom keras.initializers import Constant\\nfrom tensorflow.keras.optimizers import Adam\\nfrom keras.callbacks import EarlyStopping\\n\\n\\nimport random\\nimport re\\n\\n\\nfrom sklearn.model_selection import train_test_split\\nimport pickle\\nfrom sklearn.metrics import accuracy_score\\n\\nplt.style.use(style=\\\"seaborn\\\")\\n%matplotlib inline\";\n",
       "                var nbb_cells = Jupyter.notebook.get_cells();\n",
       "                for (var i = 0; i < nbb_cells.length; ++i) {\n",
       "                    if (nbb_cells[i].input_prompt_number == nbb_cell_id) {\n",
       "                        if (nbb_cells[i].get_text() == nbb_unformatted_code) {\n",
       "                             nbb_cells[i].set_text(nbb_formatted_code);\n",
       "                        }\n",
       "                        break;\n",
       "                    }\n",
       "                }\n",
       "            }, 500);\n",
       "            "
      ],
      "text/plain": [
       "<IPython.core.display.Javascript object>"
      ]
     },
     "metadata": {},
     "output_type": "display_data"
    }
   ],
   "source": [
    "from IPython.core.debugger import set_trace\n",
    "\n",
    "%load_ext nb_black\n",
    "\n",
    "import pandas as pd\n",
    "import numpy as np\n",
    "import numpy\n",
    "import os\n",
    "import matplotlib.pyplot as plt\n",
    "import time\n",
    "\n",
    "from tensorflow.keras.utils import to_categorical\n",
    "\n",
    "from nltk.corpus import stopwords\n",
    "import nltk\n",
    "\n",
    "from nltk.tokenize import word_tokenize\n",
    "from nltk.stem import PorterStemmer\n",
    "\n",
    "from collections import Counter\n",
    "\n",
    "from keras.preprocessing.text import Tokenizer\n",
    "\n",
    "from keras_preprocessing.sequence import pad_sequences\n",
    "\n",
    "from imblearn.over_sampling import SMOTE\n",
    "\n",
    "from keras.models import Sequential\n",
    "from keras.layers import Embedding, LSTM, Dense, Dropout, Bidirectional\n",
    "from keras.initializers import Constant\n",
    "from tensorflow.keras.optimizers import Adam\n",
    "from keras.callbacks import EarlyStopping\n",
    "\n",
    "\n",
    "import random\n",
    "import re\n",
    "\n",
    "\n",
    "from sklearn.model_selection import train_test_split\n",
    "import pickle\n",
    "from sklearn.metrics import accuracy_score\n",
    "\n",
    "plt.style.use(style=\"seaborn\")\n",
    "%matplotlib inline\n"
   ]
  },
  {
   "cell_type": "code",
   "execution_count": 5,
   "metadata": {
    "tags": []
   },
   "outputs": [
    {
     "data": {
      "application/javascript": [
       "\n",
       "            setTimeout(function() {\n",
       "                var nbb_cell_id = 5;\n",
       "                var nbb_unformatted_code = \"def remove_URL(text):\\n    url = re.compile(r\\\"https?://\\\\S+|www\\\\.\\\\S+\\\")\\n    return url.sub(r\\\"\\\", text)\\n\\n\\ndef remove_html(text):\\n    html = re.compile(r\\\"<.*?>\\\")\\n    return html.sub(r\\\"\\\", text)\\n\\ndef remove_emoji(string):\\n    emoji_pattern = re.compile(\\n        \\\"[\\\"\\n        u\\\"\\\\U0001F600-\\\\U0001F64F\\\"  # emoticons\\n        u\\\"\\\\U0001F300-\\\\U0001F5FF\\\"  # symbols & pictographs\\n        u\\\"\\\\U0001F680-\\\\U0001F6FF\\\"  # transport & map symbols\\n        u\\\"\\\\U0001F1E0-\\\\U0001F1FF\\\"  # flags (iOS)\\n        u\\\"\\\\U00002702-\\\\U000027B0\\\"\\n        u\\\"\\\\U000024C2-\\\\U0001F251\\\"\\n        \\\"]+\\\",\\n        flags=re.UNICODE,\\n    )\\n    return emoji_pattern.sub(r\\\"\\\", string)\\n\\ndef decode(text):\\n    return \\\" \\\".join([reverse_word_index.get(i, \\\"?\\\") for i in text])\\n\\nimport string\\n\\ndef counter_word(text):\\n    count = Counter()\\n    for i in text.values:\\n        for word in i.split():\\n            count[word] += 1\\n    return count\\n\\nstop = set(stopwords.words(\\\"turkish\\\"))\\n\\ndef remove_stopwords(text):\\n    text = [word.lower() for word in text.split() if word.lower() not in stop]\\n\\n    return \\\" \\\".join(text)\\n\\ndef remove_punct(text):\\n    table = str.maketrans(\\\"\\\", \\\"\\\", string.punctuation)\\n    return text.translate(table)\";\n",
       "                var nbb_formatted_code = \"def remove_URL(text):\\n    url = re.compile(r\\\"https?://\\\\S+|www\\\\.\\\\S+\\\")\\n    return url.sub(r\\\"\\\", text)\\n\\n\\ndef remove_html(text):\\n    html = re.compile(r\\\"<.*?>\\\")\\n    return html.sub(r\\\"\\\", text)\\n\\n\\ndef remove_emoji(string):\\n    emoji_pattern = re.compile(\\n        \\\"[\\\"\\n        u\\\"\\\\U0001F600-\\\\U0001F64F\\\"  # emoticons\\n        u\\\"\\\\U0001F300-\\\\U0001F5FF\\\"  # symbols & pictographs\\n        u\\\"\\\\U0001F680-\\\\U0001F6FF\\\"  # transport & map symbols\\n        u\\\"\\\\U0001F1E0-\\\\U0001F1FF\\\"  # flags (iOS)\\n        u\\\"\\\\U00002702-\\\\U000027B0\\\"\\n        u\\\"\\\\U000024C2-\\\\U0001F251\\\"\\n        \\\"]+\\\",\\n        flags=re.UNICODE,\\n    )\\n    return emoji_pattern.sub(r\\\"\\\", string)\\n\\n\\ndef decode(text):\\n    return \\\" \\\".join([reverse_word_index.get(i, \\\"?\\\") for i in text])\\n\\n\\nimport string\\n\\n\\ndef counter_word(text):\\n    count = Counter()\\n    for i in text.values:\\n        for word in i.split():\\n            count[word] += 1\\n    return count\\n\\n\\nstop = set(stopwords.words(\\\"turkish\\\"))\\n\\n\\ndef remove_stopwords(text):\\n    text = [word.lower() for word in text.split() if word.lower() not in stop]\\n\\n    return \\\" \\\".join(text)\\n\\n\\ndef remove_punct(text):\\n    table = str.maketrans(\\\"\\\", \\\"\\\", string.punctuation)\\n    return text.translate(table)\";\n",
       "                var nbb_cells = Jupyter.notebook.get_cells();\n",
       "                for (var i = 0; i < nbb_cells.length; ++i) {\n",
       "                    if (nbb_cells[i].input_prompt_number == nbb_cell_id) {\n",
       "                        if (nbb_cells[i].get_text() == nbb_unformatted_code) {\n",
       "                             nbb_cells[i].set_text(nbb_formatted_code);\n",
       "                        }\n",
       "                        break;\n",
       "                    }\n",
       "                }\n",
       "            }, 500);\n",
       "            "
      ],
      "text/plain": [
       "<IPython.core.display.Javascript object>"
      ]
     },
     "metadata": {},
     "output_type": "display_data"
    }
   ],
   "source": [
    "def remove_URL(text):\n",
    "    url = re.compile(r\"https?://\\S+|www\\.\\S+\")\n",
    "    return url.sub(r\"\", text)\n",
    "\n",
    "\n",
    "def remove_html(text):\n",
    "    html = re.compile(r\"<.*?>\")\n",
    "    return html.sub(r\"\", text)\n",
    "\n",
    "def remove_emoji(string):\n",
    "    emoji_pattern = re.compile(\n",
    "        \"[\"\n",
    "        u\"\\U0001F600-\\U0001F64F\"  # emoticons\n",
    "        u\"\\U0001F300-\\U0001F5FF\"  # symbols & pictographs\n",
    "        u\"\\U0001F680-\\U0001F6FF\"  # transport & map symbols\n",
    "        u\"\\U0001F1E0-\\U0001F1FF\"  # flags (iOS)\n",
    "        u\"\\U00002702-\\U000027B0\"\n",
    "        u\"\\U000024C2-\\U0001F251\"\n",
    "        \"]+\",\n",
    "        flags=re.UNICODE,\n",
    "    )\n",
    "    return emoji_pattern.sub(r\"\", string)\n",
    "\n",
    "def decode(text):\n",
    "    return \" \".join([reverse_word_index.get(i, \"?\") for i in text])\n",
    "\n",
    "import string\n",
    "\n",
    "def counter_word(text):\n",
    "    count = Counter()\n",
    "    for i in text.values:\n",
    "        for word in i.split():\n",
    "            count[word] += 1\n",
    "    return count\n",
    "\n",
    "stop = set(stopwords.words(\"turkish\"))\n",
    "\n",
    "def remove_stopwords(text):\n",
    "    text = [word.lower() for word in text.split() if word.lower() not in stop]\n",
    "\n",
    "    return \" \".join(text)\n",
    "\n",
    "def remove_punct(text):\n",
    "    table = str.maketrans(\"\", \"\", string.punctuation)\n",
    "    return text.translate(table)"
   ]
  },
  {
   "cell_type": "code",
   "execution_count": 7,
   "metadata": {
    "tags": []
   },
   "outputs": [
    {
     "data": {
      "application/javascript": [
       "\n",
       "            setTimeout(function() {\n",
       "                var nbb_cell_id = 7;\n",
       "                var nbb_unformatted_code = \"df = pd.read_csv(f\\\"stemmed_titles_hiphop_jazz.csv\\\")\\n#df = df.rename({'music_genre': 'genre'}, axis=1) \";\n",
       "                var nbb_formatted_code = \"df = pd.read_csv(f\\\"stemmed_titles_hiphop_jazz.csv\\\")\\n# df = df.rename({'music_genre': 'genre'}, axis=1)\";\n",
       "                var nbb_cells = Jupyter.notebook.get_cells();\n",
       "                for (var i = 0; i < nbb_cells.length; ++i) {\n",
       "                    if (nbb_cells[i].input_prompt_number == nbb_cell_id) {\n",
       "                        if (nbb_cells[i].get_text() == nbb_unformatted_code) {\n",
       "                             nbb_cells[i].set_text(nbb_formatted_code);\n",
       "                        }\n",
       "                        break;\n",
       "                    }\n",
       "                }\n",
       "            }, 500);\n",
       "            "
      ],
      "text/plain": [
       "<IPython.core.display.Javascript object>"
      ]
     },
     "metadata": {},
     "output_type": "display_data"
    }
   ],
   "source": [
    "df = pd.read_csv(f\"stemmed_titles_hiphop_jazz.csv\")\n",
    "#df = df.rename({'music_genre': 'genre'}, axis=1) \n"
   ]
  },
  {
   "cell_type": "code",
   "execution_count": 8,
   "metadata": {
    "tags": []
   },
   "outputs": [
    {
     "data": {
      "text/plain": [
       "array(['Electronic', 'Anime', 'Jazz', 'Alternative', 'Country', 'Hip-Hop',\n",
       "       'Rock', 'Classical'], dtype=object)"
      ]
     },
     "execution_count": 8,
     "metadata": {},
     "output_type": "execute_result"
    },
    {
     "data": {
      "application/javascript": [
       "\n",
       "            setTimeout(function() {\n",
       "                var nbb_cell_id = 8;\n",
       "                var nbb_unformatted_code = \"gnrlist = df.genre.unique()\\ngnrlist\\n#drout = 0.8 # random.uniform(0.1,0.9)\";\n",
       "                var nbb_formatted_code = \"gnrlist = df.genre.unique()\\ngnrlist\\n# drout = 0.8 # random.uniform(0.1,0.9)\";\n",
       "                var nbb_cells = Jupyter.notebook.get_cells();\n",
       "                for (var i = 0; i < nbb_cells.length; ++i) {\n",
       "                    if (nbb_cells[i].input_prompt_number == nbb_cell_id) {\n",
       "                        if (nbb_cells[i].get_text() == nbb_unformatted_code) {\n",
       "                             nbb_cells[i].set_text(nbb_formatted_code);\n",
       "                        }\n",
       "                        break;\n",
       "                    }\n",
       "                }\n",
       "            }, 500);\n",
       "            "
      ],
      "text/plain": [
       "<IPython.core.display.Javascript object>"
      ]
     },
     "metadata": {},
     "output_type": "display_data"
    }
   ],
   "source": [
    "gnrlist = df.genre.unique()\n",
    "gnrlist\n",
    "#drout = 0.8 # random.uniform(0.1,0.9)"
   ]
  },
  {
   "cell_type": "code",
   "execution_count": 9,
   "metadata": {
    "tags": []
   },
   "outputs": [
    {
     "data": {
      "application/javascript": [
       "\n",
       "            setTimeout(function() {\n",
       "                var nbb_cell_id = 9;\n",
       "                var nbb_unformatted_code = \"df['genre'] = df['genre'].map({\\\"Electronic\\\" : 0,\\\"Anime\\\" : 1,\\\"Jazz\\\" : 2,\\\"Alternative\\\" : 3,\\\"Country\\\" : 4,\\\"Hip-Hop\\\" : 5, \\\"Rock\\\": 6, \\\"Classical\\\": 7})\";\n",
       "                var nbb_formatted_code = \"df[\\\"genre\\\"] = df[\\\"genre\\\"].map(\\n    {\\n        \\\"Electronic\\\": 0,\\n        \\\"Anime\\\": 1,\\n        \\\"Jazz\\\": 2,\\n        \\\"Alternative\\\": 3,\\n        \\\"Country\\\": 4,\\n        \\\"Hip-Hop\\\": 5,\\n        \\\"Rock\\\": 6,\\n        \\\"Classical\\\": 7,\\n    }\\n)\";\n",
       "                var nbb_cells = Jupyter.notebook.get_cells();\n",
       "                for (var i = 0; i < nbb_cells.length; ++i) {\n",
       "                    if (nbb_cells[i].input_prompt_number == nbb_cell_id) {\n",
       "                        if (nbb_cells[i].get_text() == nbb_unformatted_code) {\n",
       "                             nbb_cells[i].set_text(nbb_formatted_code);\n",
       "                        }\n",
       "                        break;\n",
       "                    }\n",
       "                }\n",
       "            }, 500);\n",
       "            "
      ],
      "text/plain": [
       "<IPython.core.display.Javascript object>"
      ]
     },
     "metadata": {},
     "output_type": "display_data"
    }
   ],
   "source": [
    "df['genre'] = df['genre'].map({\"Electronic\" : 0,\"Anime\" : 1,\"Jazz\" : 2,\"Alternative\" : 3,\"Country\" : 4,\"Hip-Hop\" : 5, \"Rock\": 6, \"Classical\": 7})"
   ]
  },
  {
   "cell_type": "code",
   "execution_count": 10,
   "metadata": {
    "tags": []
   },
   "outputs": [
    {
     "data": {
      "text/plain": [
       "0          röyksopp night out\n",
       "1              the shine path\n",
       "2                    hurrican\n",
       "3                       nitro\n",
       "4               divid conquer\n",
       "                 ...         \n",
       "49995                go getta\n",
       "49996        drama feat drake\n",
       "49997    lovin me feat smiggz\n",
       "49998       shawti is da shit\n",
       "49999          hip hop hooray\n",
       "Name: track_name, Length: 50000, dtype: object"
      ]
     },
     "execution_count": 10,
     "metadata": {},
     "output_type": "execute_result"
    },
    {
     "data": {
      "application/javascript": [
       "\n",
       "            setTimeout(function() {\n",
       "                var nbb_cell_id = 10;\n",
       "                var nbb_unformatted_code = \"df[\\\"track_name\\\"] = df.track_name.map(lambda x: remove_URL(x))\\ndf[\\\"track_name\\\"] = df.track_name.map(lambda x: remove_html(x))\\ndf[\\\"track_name\\\"] = df.track_name.map(lambda x: remove_emoji(x))\\ndf[\\\"track_name\\\"] = df.track_name.map(lambda x: remove_punct(x))\\ndf['track_name'] = df['track_name'].str.lower()\\ndf[\\\"track_name\\\"]\";\n",
       "                var nbb_formatted_code = \"df[\\\"track_name\\\"] = df.track_name.map(lambda x: remove_URL(x))\\ndf[\\\"track_name\\\"] = df.track_name.map(lambda x: remove_html(x))\\ndf[\\\"track_name\\\"] = df.track_name.map(lambda x: remove_emoji(x))\\ndf[\\\"track_name\\\"] = df.track_name.map(lambda x: remove_punct(x))\\ndf[\\\"track_name\\\"] = df[\\\"track_name\\\"].str.lower()\\ndf[\\\"track_name\\\"]\";\n",
       "                var nbb_cells = Jupyter.notebook.get_cells();\n",
       "                for (var i = 0; i < nbb_cells.length; ++i) {\n",
       "                    if (nbb_cells[i].input_prompt_number == nbb_cell_id) {\n",
       "                        if (nbb_cells[i].get_text() == nbb_unformatted_code) {\n",
       "                             nbb_cells[i].set_text(nbb_formatted_code);\n",
       "                        }\n",
       "                        break;\n",
       "                    }\n",
       "                }\n",
       "            }, 500);\n",
       "            "
      ],
      "text/plain": [
       "<IPython.core.display.Javascript object>"
      ]
     },
     "metadata": {},
     "output_type": "display_data"
    }
   ],
   "source": [
    "df[\"track_name\"] = df.track_name.map(lambda x: remove_URL(x))\n",
    "df[\"track_name\"] = df.track_name.map(lambda x: remove_html(x))\n",
    "df[\"track_name\"] = df.track_name.map(lambda x: remove_emoji(x))\n",
    "df[\"track_name\"] = df.track_name.map(lambda x: remove_punct(x))\n",
    "df['track_name'] = df['track_name'].str.lower()\n",
    "df[\"track_name\"]"
   ]
  },
  {
   "cell_type": "code",
   "execution_count": 9,
   "metadata": {},
   "outputs": [
    {
     "data": {
      "text/plain": [
       "'\\nps = PorterStemmer() \\nstem_list = []\\nsentence_list = list(df[\\'track_name\\'])\\nfor i in range(0, 50000):\\n    stem_temp = []\\n    #print(sentence_list[i])\\n    for word in sentence_list[i].split():\\n        word = ps.stem(word)\\n        stem_temp.append(word)\\n    stem_list.append(stem_temp)\\n    #print(stem_temp)\\n\\ndf[\\'track_name\\'] = stem_list\\ndf.to_csv(\"stemmed_titles.csv\", index = False)\\n'"
      ]
     },
     "execution_count": 9,
     "metadata": {},
     "output_type": "execute_result"
    },
    {
     "data": {
      "application/javascript": [
       "\n",
       "            setTimeout(function() {\n",
       "                var nbb_cell_id = 9;\n",
       "                var nbb_unformatted_code = \"\\\"\\\"\\\"\\nps = PorterStemmer() \\nstem_list = []\\nsentence_list = list(df['track_name'])\\nfor i in range(0, 50000):\\n    stem_temp = []\\n    #print(sentence_list[i])\\n    for word in sentence_list[i].split():\\n        word = ps.stem(word)\\n        stem_temp.append(word)\\n    stem_list.append(stem_temp)\\n    #print(stem_temp)\\n\\ndf['track_name'] = stem_list\\ndf.to_csv(\\\"stemmed_titles.csv\\\", index = False)\\n\\\"\\\"\\\"\";\n",
       "                var nbb_formatted_code = \"\\\"\\\"\\\"\\nps = PorterStemmer() \\nstem_list = []\\nsentence_list = list(df['track_name'])\\nfor i in range(0, 50000):\\n    stem_temp = []\\n    #print(sentence_list[i])\\n    for word in sentence_list[i].split():\\n        word = ps.stem(word)\\n        stem_temp.append(word)\\n    stem_list.append(stem_temp)\\n    #print(stem_temp)\\n\\ndf['track_name'] = stem_list\\ndf.to_csv(\\\"stemmed_titles.csv\\\", index = False)\\n\\\"\\\"\\\"\";\n",
       "                var nbb_cells = Jupyter.notebook.get_cells();\n",
       "                for (var i = 0; i < nbb_cells.length; ++i) {\n",
       "                    if (nbb_cells[i].input_prompt_number == nbb_cell_id) {\n",
       "                        if (nbb_cells[i].get_text() == nbb_unformatted_code) {\n",
       "                             nbb_cells[i].set_text(nbb_formatted_code);\n",
       "                        }\n",
       "                        break;\n",
       "                    }\n",
       "                }\n",
       "            }, 500);\n",
       "            "
      ],
      "text/plain": [
       "<IPython.core.display.Javascript object>"
      ]
     },
     "metadata": {},
     "output_type": "display_data"
    }
   ],
   "source": [
    "\"\"\"\n",
    "\n",
    "#THIS IS FOR STEMMING THE WORDS. WE HAVE STEMMED THE WORDS BEFORE SO THERE IS NO NEED TO THIS AGAIN. THE CSV FILE ALREADY HAS STEMMED WORDS.\n",
    "\n",
    "ps = PorterStemmer() \n",
    "stem_list = []\n",
    "sentence_list = list(df['track_name'])\n",
    "for i in range(0, 50000):\n",
    "    stem_temp = []\n",
    "    #print(sentence_list[i])\n",
    "    for word in sentence_list[i].split():\n",
    "        word = ps.stem(word)\n",
    "        stem_temp.append(word)\n",
    "    stem_list.append(stem_temp)\n",
    "    #print(stem_temp)\n",
    "\n",
    "df['track_name'] = stem_list\n",
    "df.to_csv(\"stemmed_titles.csv\", index = False)\n",
    "\"\"\""
   ]
  },
  {
   "cell_type": "code",
   "execution_count": 11,
   "metadata": {
    "tags": []
   },
   "outputs": [
    {
     "data": {
      "application/javascript": [
       "\n",
       "            setTimeout(function() {\n",
       "                var nbb_cell_id = 11;\n",
       "                var nbb_unformatted_code = \"max_length = 10\\ntext = df.track_name\\ngenres = df.genre\\ncounter = counter_word(text)\\nnum_words = len(counter)\";\n",
       "                var nbb_formatted_code = \"max_length = 10\\ntext = df.track_name\\ngenres = df.genre\\ncounter = counter_word(text)\\nnum_words = len(counter)\";\n",
       "                var nbb_cells = Jupyter.notebook.get_cells();\n",
       "                for (var i = 0; i < nbb_cells.length; ++i) {\n",
       "                    if (nbb_cells[i].input_prompt_number == nbb_cell_id) {\n",
       "                        if (nbb_cells[i].get_text() == nbb_unformatted_code) {\n",
       "                             nbb_cells[i].set_text(nbb_formatted_code);\n",
       "                        }\n",
       "                        break;\n",
       "                    }\n",
       "                }\n",
       "            }, 500);\n",
       "            "
      ],
      "text/plain": [
       "<IPython.core.display.Javascript object>"
      ]
     },
     "metadata": {},
     "output_type": "display_data"
    }
   ],
   "source": [
    "max_length = 10\n",
    "text = df.track_name\n",
    "genres = df.genre\n",
    "counter = counter_word(text)\n",
    "num_words = len(counter)"
   ]
  },
  {
   "cell_type": "code",
   "execution_count": 13,
   "metadata": {},
   "outputs": [
    {
     "data": {
      "application/javascript": [
       "\n",
       "            setTimeout(function() {\n",
       "                var nbb_cell_id = 13;\n",
       "                var nbb_unformatted_code = \"from sklearn.model_selection import train_test_split\\n\\n\\n\\ntrain_sentences, test_sentences, train_labels, test_labels = train_test_split(text, genres, test_size = 0.2, shuffle=True)\\n#x_train\";\n",
       "                var nbb_formatted_code = \"from sklearn.model_selection import train_test_split\\n\\n\\ntrain_sentences, test_sentences, train_labels, test_labels = train_test_split(\\n    text, genres, test_size=0.2, shuffle=True\\n)\\n# x_train\";\n",
       "                var nbb_cells = Jupyter.notebook.get_cells();\n",
       "                for (var i = 0; i < nbb_cells.length; ++i) {\n",
       "                    if (nbb_cells[i].input_prompt_number == nbb_cell_id) {\n",
       "                        if (nbb_cells[i].get_text() == nbb_unformatted_code) {\n",
       "                             nbb_cells[i].set_text(nbb_formatted_code);\n",
       "                        }\n",
       "                        break;\n",
       "                    }\n",
       "                }\n",
       "            }, 500);\n",
       "            "
      ],
      "text/plain": [
       "<IPython.core.display.Javascript object>"
      ]
     },
     "metadata": {},
     "output_type": "display_data"
    }
   ],
   "source": [
    "from sklearn.model_selection import train_test_split\n",
    "\n",
    "train_sentences, test_sentences, train_labels, test_labels = train_test_split(text, genres, test_size = 0.2, shuffle=True)\n",
    "#x_train"
   ]
  },
  {
   "cell_type": "code",
   "execution_count": 16,
   "metadata": {
    "tags": []
   },
   "outputs": [
    {
     "data": {
      "application/javascript": [
       "\n",
       "            setTimeout(function() {\n",
       "                var nbb_cell_id = 16;\n",
       "                var nbb_unformatted_code = \"train_labels = to_categorical(train_labels)\\ntest_labels = to_categorical(test_labels)\";\n",
       "                var nbb_formatted_code = \"train_labels = to_categorical(train_labels)\\ntest_labels = to_categorical(test_labels)\";\n",
       "                var nbb_cells = Jupyter.notebook.get_cells();\n",
       "                for (var i = 0; i < nbb_cells.length; ++i) {\n",
       "                    if (nbb_cells[i].input_prompt_number == nbb_cell_id) {\n",
       "                        if (nbb_cells[i].get_text() == nbb_unformatted_code) {\n",
       "                             nbb_cells[i].set_text(nbb_formatted_code);\n",
       "                        }\n",
       "                        break;\n",
       "                    }\n",
       "                }\n",
       "            }, 500);\n",
       "            "
      ],
      "text/plain": [
       "<IPython.core.display.Javascript object>"
      ]
     },
     "metadata": {},
     "output_type": "display_data"
    }
   ],
   "source": [
    "train_labels = to_categorical(train_labels)\n",
    "test_labels = to_categorical(test_labels)"
   ]
  },
  {
   "cell_type": "code",
   "execution_count": 17,
   "metadata": {
    "tags": []
   },
   "outputs": [
    {
     "data": {
      "application/javascript": [
       "\n",
       "            setTimeout(function() {\n",
       "                var nbb_cell_id = 17;\n",
       "                var nbb_unformatted_code = \"from keras.preprocessing.text import Tokenizer\\n\\ntokenizer = Tokenizer(num_words=num_words)\\ntokenizer.fit_on_texts(train_sentences)\\ntokenizer.fit_on_texts(test_sentences)\\n\\nword_index = tokenizer.word_index\";\n",
       "                var nbb_formatted_code = \"from keras.preprocessing.text import Tokenizer\\n\\ntokenizer = Tokenizer(num_words=num_words)\\ntokenizer.fit_on_texts(train_sentences)\\ntokenizer.fit_on_texts(test_sentences)\\n\\nword_index = tokenizer.word_index\";\n",
       "                var nbb_cells = Jupyter.notebook.get_cells();\n",
       "                for (var i = 0; i < nbb_cells.length; ++i) {\n",
       "                    if (nbb_cells[i].input_prompt_number == nbb_cell_id) {\n",
       "                        if (nbb_cells[i].get_text() == nbb_unformatted_code) {\n",
       "                             nbb_cells[i].set_text(nbb_formatted_code);\n",
       "                        }\n",
       "                        break;\n",
       "                    }\n",
       "                }\n",
       "            }, 500);\n",
       "            "
      ],
      "text/plain": [
       "<IPython.core.display.Javascript object>"
      ]
     },
     "metadata": {},
     "output_type": "display_data"
    }
   ],
   "source": [
    "from keras.preprocessing.text import Tokenizer\n",
    "\n",
    "tokenizer = Tokenizer(num_words=num_words)\n",
    "tokenizer.fit_on_texts(train_sentences)\n",
    "tokenizer.fit_on_texts(test_sentences)\n",
    "\n",
    "word_index = tokenizer.word_index"
   ]
  },
  {
   "cell_type": "code",
   "execution_count": 18,
   "metadata": {
    "tags": []
   },
   "outputs": [
    {
     "data": {
      "application/javascript": [
       "\n",
       "            setTimeout(function() {\n",
       "                var nbb_cell_id = 18;\n",
       "                var nbb_unformatted_code = \"from keras_preprocessing.sequence import pad_sequences\\n\\ntrain_sequences = tokenizer.texts_to_sequences(train_sentences)\\ntrain_padded = pad_sequences(train_sequences, maxlen=max_length, padding=\\\"post\\\", truncating=\\\"post\\\")\\n\\ntest_sequences = tokenizer.texts_to_sequences(test_sentences)\\ntest_padded = pad_sequences(test_sequences, maxlen=max_length, padding=\\\"post\\\", truncating=\\\"post\\\")\\n\\nreverse_word_index = dict([(value, key) for (key, value) in word_index.items()])\";\n",
       "                var nbb_formatted_code = \"from keras_preprocessing.sequence import pad_sequences\\n\\ntrain_sequences = tokenizer.texts_to_sequences(train_sentences)\\ntrain_padded = pad_sequences(\\n    train_sequences, maxlen=max_length, padding=\\\"post\\\", truncating=\\\"post\\\"\\n)\\n\\ntest_sequences = tokenizer.texts_to_sequences(test_sentences)\\ntest_padded = pad_sequences(\\n    test_sequences, maxlen=max_length, padding=\\\"post\\\", truncating=\\\"post\\\"\\n)\\n\\nreverse_word_index = dict([(value, key) for (key, value) in word_index.items()])\";\n",
       "                var nbb_cells = Jupyter.notebook.get_cells();\n",
       "                for (var i = 0; i < nbb_cells.length; ++i) {\n",
       "                    if (nbb_cells[i].input_prompt_number == nbb_cell_id) {\n",
       "                        if (nbb_cells[i].get_text() == nbb_unformatted_code) {\n",
       "                             nbb_cells[i].set_text(nbb_formatted_code);\n",
       "                        }\n",
       "                        break;\n",
       "                    }\n",
       "                }\n",
       "            }, 500);\n",
       "            "
      ],
      "text/plain": [
       "<IPython.core.display.Javascript object>"
      ]
     },
     "metadata": {},
     "output_type": "display_data"
    }
   ],
   "source": [
    "from keras_preprocessing.sequence import pad_sequences\n",
    "\n",
    "train_sequences = tokenizer.texts_to_sequences(train_sentences)\n",
    "train_padded = pad_sequences(train_sequences, maxlen=max_length, padding=\"post\", truncating=\"post\")\n",
    "\n",
    "test_sequences = tokenizer.texts_to_sequences(test_sentences)\n",
    "test_padded = pad_sequences(test_sequences, maxlen=max_length, padding=\"post\", truncating=\"post\")\n",
    "\n",
    "reverse_word_index = dict([(value, key) for (key, value) in word_index.items()])"
   ]
  },
  {
   "cell_type": "code",
   "execution_count": 19,
   "metadata": {},
   "outputs": [
    {
     "data": {
      "text/plain": [
       "10000"
      ]
     },
     "execution_count": 19,
     "metadata": {},
     "output_type": "execute_result"
    },
    {
     "data": {
      "application/javascript": [
       "\n",
       "            setTimeout(function() {\n",
       "                var nbb_cell_id = 19;\n",
       "                var nbb_unformatted_code = \"len(test_labels)\";\n",
       "                var nbb_formatted_code = \"len(test_labels)\";\n",
       "                var nbb_cells = Jupyter.notebook.get_cells();\n",
       "                for (var i = 0; i < nbb_cells.length; ++i) {\n",
       "                    if (nbb_cells[i].input_prompt_number == nbb_cell_id) {\n",
       "                        if (nbb_cells[i].get_text() == nbb_unformatted_code) {\n",
       "                             nbb_cells[i].set_text(nbb_formatted_code);\n",
       "                        }\n",
       "                        break;\n",
       "                    }\n",
       "                }\n",
       "            }, 500);\n",
       "            "
      ],
      "text/plain": [
       "<IPython.core.display.Javascript object>"
      ]
     },
     "metadata": {},
     "output_type": "display_data"
    }
   ],
   "source": [
    "len(test_labels)"
   ]
  },
  {
   "cell_type": "code",
   "execution_count": 21,
   "metadata": {},
   "outputs": [
    {
     "name": "stdout",
     "output_type": "stream",
     "text": [
      "Epoch 1/5\n",
      "1250/1250 [==============================] - 84s 65ms/step - loss: 1.7548 - accuracy: 0.3336 - val_loss: 1.6561 - val_accuracy: 0.3730\n",
      "Epoch 2/5\n",
      "1250/1250 [==============================] - 84s 67ms/step - loss: 1.4756 - accuracy: 0.4614 - val_loss: 1.6041 - val_accuracy: 0.4123\n",
      "Epoch 3/5\n",
      "1250/1250 [==============================] - 82s 66ms/step - loss: 1.2651 - accuracy: 0.5418 - val_loss: 1.6483 - val_accuracy: 0.4117\n",
      "Epoch 4/5\n",
      "1250/1250 [==============================] - 82s 66ms/step - loss: 1.1185 - accuracy: 0.5954 - val_loss: 1.7926 - val_accuracy: 0.4049\n",
      "Epoch 5/5\n",
      "1250/1250 [==============================] - 80s 64ms/step - loss: 1.0154 - accuracy: 0.6240 - val_loss: 1.8750 - val_accuracy: 0.4008\n"
     ]
    },
    {
     "data": {
      "application/javascript": [
       "\n",
       "            setTimeout(function() {\n",
       "                var nbb_cell_id = 21;\n",
       "                var nbb_unformatted_code = \"model=Sequential()\\nmodel.add(Embedding(num_words,256,input_length=max_length))\\n#model.add(Bidirectional(LSTM(32, return_sequences=True)))\\nmodel.add(LSTM(64,input_shape=(3,),activation='relu',return_sequences=True))\\n\\nmodel.add(Dropout(0.5))\\nmodel.add(Dense(32,activation='relu'))\\nmodel.add(LSTM(16,activation='relu'))\\nmodel.add(Dense(8,activation='softmax'))\\n\\nmodel.compile(loss='categorical_crossentropy',optimizer='adam',metrics=['accuracy'])\\n\\nearlystopper = EarlyStopping(monitor='val_loss', min_delta=0, patience=25, verbose=0, mode='auto')\\nhistory = model.fit(train_padded, train_labels, epochs=5, validation_data=(test_padded, test_labels), callbacks = [earlystopper], verbose = 1)\\n\\nhistory_dict=history.history\";\n",
       "                var nbb_formatted_code = \"model = Sequential()\\nmodel.add(Embedding(num_words, 256, input_length=max_length))\\n# model.add(Bidirectional(LSTM(32, return_sequences=True)))\\nmodel.add(LSTM(64, input_shape=(3,), activation=\\\"relu\\\", return_sequences=True))\\n\\nmodel.add(Dropout(0.5))\\nmodel.add(Dense(32, activation=\\\"relu\\\"))\\nmodel.add(LSTM(16, activation=\\\"relu\\\"))\\nmodel.add(Dense(8, activation=\\\"softmax\\\"))\\n\\nmodel.compile(loss=\\\"categorical_crossentropy\\\", optimizer=\\\"adam\\\", metrics=[\\\"accuracy\\\"])\\n\\nearlystopper = EarlyStopping(\\n    monitor=\\\"val_loss\\\", min_delta=0, patience=25, verbose=0, mode=\\\"auto\\\"\\n)\\nhistory = model.fit(\\n    train_padded,\\n    train_labels,\\n    epochs=5,\\n    validation_data=(test_padded, test_labels),\\n    callbacks=[earlystopper],\\n    verbose=1,\\n)\\n\\nhistory_dict = history.history\";\n",
       "                var nbb_cells = Jupyter.notebook.get_cells();\n",
       "                for (var i = 0; i < nbb_cells.length; ++i) {\n",
       "                    if (nbb_cells[i].input_prompt_number == nbb_cell_id) {\n",
       "                        if (nbb_cells[i].get_text() == nbb_unformatted_code) {\n",
       "                             nbb_cells[i].set_text(nbb_formatted_code);\n",
       "                        }\n",
       "                        break;\n",
       "                    }\n",
       "                }\n",
       "            }, 500);\n",
       "            "
      ],
      "text/plain": [
       "<IPython.core.display.Javascript object>"
      ]
     },
     "metadata": {},
     "output_type": "display_data"
    }
   ],
   "source": [
    "model=Sequential()\n",
    "model.add(Embedding(num_words,256,input_length=max_length))\n",
    "#model.add(Bidirectional(LSTM(32, return_sequences=True)))\n",
    "model.add(LSTM(64,input_shape=(3,),activation='relu',return_sequences=True))\n",
    "\n",
    "model.add(Dropout(0.5))\n",
    "model.add(Dense(32,activation='relu'))\n",
    "model.add(LSTM(16,activation='relu'))\n",
    "model.add(Dense(8,activation='softmax'))\n",
    "\n",
    "model.compile(loss='categorical_crossentropy',optimizer='adam',metrics=['accuracy'])\n",
    "\n",
    "earlystopper = EarlyStopping(monitor='val_loss', min_delta=0, patience=25, verbose=0, mode='auto')\n",
    "history = model.fit(train_padded, train_labels, epochs=5, validation_data=(test_padded, test_labels), callbacks = [earlystopper], verbose = 1)\n",
    "\n",
    "history_dict=history.history"
   ]
  },
  {
   "cell_type": "code",
   "execution_count": 22,
   "metadata": {},
   "outputs": [
    {
     "data": {
      "text/plain": [
       "<matplotlib.legend.Legend at 0x2258588f7f0>"
      ]
     },
     "execution_count": 22,
     "metadata": {},
     "output_type": "execute_result"
    },
    {
     "data": {
      "image/png": "[encoded data removed]",
      "text/plain": [
       "<Figure size 432x288 with 1 Axes>"
      ]
     },
     "metadata": {
      "needs_background": "light"
     },
     "output_type": "display_data"
    },
    {
     "data": {
      "application/javascript": [
       "\n",
       "            setTimeout(function() {\n",
       "                var nbb_cell_id = 22;\n",
       "                var nbb_unformatted_code = \"accuracy_values = history_dict['accuracy']\\nval_accuracy_values=history_dict['val_accuracy']\\nplt.plot(val_accuracy_values,'-r',label='Testing Data Accuracy')\\nplt.plot(accuracy_values,'-b',label='Training Data Accuracy')\\nplt.legend()\";\n",
       "                var nbb_formatted_code = \"accuracy_values = history_dict[\\\"accuracy\\\"]\\nval_accuracy_values = history_dict[\\\"val_accuracy\\\"]\\nplt.plot(val_accuracy_values, \\\"-r\\\", label=\\\"Testing Data Accuracy\\\")\\nplt.plot(accuracy_values, \\\"-b\\\", label=\\\"Training Data Accuracy\\\")\\nplt.legend()\";\n",
       "                var nbb_cells = Jupyter.notebook.get_cells();\n",
       "                for (var i = 0; i < nbb_cells.length; ++i) {\n",
       "                    if (nbb_cells[i].input_prompt_number == nbb_cell_id) {\n",
       "                        if (nbb_cells[i].get_text() == nbb_unformatted_code) {\n",
       "                             nbb_cells[i].set_text(nbb_formatted_code);\n",
       "                        }\n",
       "                        break;\n",
       "                    }\n",
       "                }\n",
       "            }, 500);\n",
       "            "
      ],
      "text/plain": [
       "<IPython.core.display.Javascript object>"
      ]
     },
     "metadata": {},
     "output_type": "display_data"
    }
   ],
   "source": [
    "accuracy_values = history_dict['accuracy']\n",
    "val_accuracy_values=history_dict['val_accuracy']\n",
    "plt.plot(val_accuracy_values,'-r',label='Testing Data Accuracy')\n",
    "plt.plot(accuracy_values,'-b',label='Training Data Accuracy')\n",
    "plt.legend()"
   ]
  },
  {
   "cell_type": "code",
   "execution_count": 23,
   "metadata": {},
   "outputs": [
    {
     "data": {
      "text/plain": [
       "Text(0.5, 0, 'Epochs')"
      ]
     },
     "execution_count": 23,
     "metadata": {},
     "output_type": "execute_result"
    },
    {
     "data": {
      "text/plain": [
       "<Figure size 432x288 with 0 Axes>"
      ]
     },
     "metadata": {},
     "output_type": "display_data"
    },
    {
     "data": {
      "image/png": "[encoded data removed]",
      "text/plain": [
       "<Figure size 432x288 with 1 Axes>"
      ]
     },
     "metadata": {
      "needs_background": "light"
     },
     "output_type": "display_data"
    },
    {
     "data": {
      "application/javascript": [
       "\n",
       "            setTimeout(function() {\n",
       "                var nbb_cell_id = 23;\n",
       "                var nbb_unformatted_code = \"loss_values = history_dict['loss']\\nval_loss_values=history_dict['val_loss']\\nplt.figure()\\nplt.figure()\\nplt.plot(loss_values,'b',label='training loss')\\nplt.plot(val_loss_values,'r',label='val training loss')\\nplt.legend()\\nplt.xlabel(\\\"Epochs\\\")\";\n",
       "                var nbb_formatted_code = \"loss_values = history_dict[\\\"loss\\\"]\\nval_loss_values = history_dict[\\\"val_loss\\\"]\\nplt.figure()\\nplt.figure()\\nplt.plot(loss_values, \\\"b\\\", label=\\\"training loss\\\")\\nplt.plot(val_loss_values, \\\"r\\\", label=\\\"val training loss\\\")\\nplt.legend()\\nplt.xlabel(\\\"Epochs\\\")\";\n",
       "                var nbb_cells = Jupyter.notebook.get_cells();\n",
       "                for (var i = 0; i < nbb_cells.length; ++i) {\n",
       "                    if (nbb_cells[i].input_prompt_number == nbb_cell_id) {\n",
       "                        if (nbb_cells[i].get_text() == nbb_unformatted_code) {\n",
       "                             nbb_cells[i].set_text(nbb_formatted_code);\n",
       "                        }\n",
       "                        break;\n",
       "                    }\n",
       "                }\n",
       "            }, 500);\n",
       "            "
      ],
      "text/plain": [
       "<IPython.core.display.Javascript object>"
      ]
     },
     "metadata": {},
     "output_type": "display_data"
    }
   ],
   "source": [
    "loss_values = history_dict['loss']\n",
    "val_loss_values=history_dict['val_loss']\n",
    "plt.figure()\n",
    "plt.figure()\n",
    "plt.plot(loss_values,'b',label='training loss')\n",
    "plt.plot(val_loss_values,'r',label='val training loss')\n",
    "plt.legend()\n",
    "plt.xlabel(\"Epochs\")"
   ]
  },
  {
   "cell_type": "code",
   "execution_count": 24,
   "metadata": {},
   "outputs": [
    {
     "name": "stdout",
     "output_type": "stream",
     "text": [
      "313/313 [==============================] - 1s 5ms/step - loss: 1.8750 - accuracy: 0.4008\n",
      "Test loss:  1.8749672174453735\n",
      "Test accuracy:  0.4007999897003174\n"
     ]
    },
    {
     "data": {
      "application/javascript": [
       "\n",
       "            setTimeout(function() {\n",
       "                var nbb_cell_id = 24;\n",
       "                var nbb_unformatted_code = \"# Calculate loss and accuracy of testing data\\nloss, acc = model.evaluate(test_padded, test_labels)\\nprint(\\\"Test loss: \\\", loss)\\nprint(\\\"Test accuracy: \\\", acc)\";\n",
       "                var nbb_formatted_code = \"# Calculate loss and accuracy of testing data\\nloss, acc = model.evaluate(test_padded, test_labels)\\nprint(\\\"Test loss: \\\", loss)\\nprint(\\\"Test accuracy: \\\", acc)\";\n",
       "                var nbb_cells = Jupyter.notebook.get_cells();\n",
       "                for (var i = 0; i < nbb_cells.length; ++i) {\n",
       "                    if (nbb_cells[i].input_prompt_number == nbb_cell_id) {\n",
       "                        if (nbb_cells[i].get_text() == nbb_unformatted_code) {\n",
       "                             nbb_cells[i].set_text(nbb_formatted_code);\n",
       "                        }\n",
       "                        break;\n",
       "                    }\n",
       "                }\n",
       "            }, 500);\n",
       "            "
      ],
      "text/plain": [
       "<IPython.core.display.Javascript object>"
      ]
     },
     "metadata": {},
     "output_type": "display_data"
    }
   ],
   "source": [
    "# Calculate loss and accuracy of testing data\n",
    "loss, acc = model.evaluate(test_padded, test_labels)\n",
    "print(\"Test loss: \", loss)\n",
    "print(\"Test accuracy: \", acc)"
   ]
  },
  {
   "cell_type": "code",
   "execution_count": 25,
   "metadata": {},
   "outputs": [
    {
     "data": {
      "application/javascript": [
       "\n",
       "            setTimeout(function() {\n",
       "                var nbb_cell_id = 25;\n",
       "                var nbb_unformatted_code = \"from sklearn.metrics import classification_report,confusion_matrix\\nimport seaborn as sns\";\n",
       "                var nbb_formatted_code = \"from sklearn.metrics import classification_report, confusion_matrix\\nimport seaborn as sns\";\n",
       "                var nbb_cells = Jupyter.notebook.get_cells();\n",
       "                for (var i = 0; i < nbb_cells.length; ++i) {\n",
       "                    if (nbb_cells[i].input_prompt_number == nbb_cell_id) {\n",
       "                        if (nbb_cells[i].get_text() == nbb_unformatted_code) {\n",
       "                             nbb_cells[i].set_text(nbb_formatted_code);\n",
       "                        }\n",
       "                        break;\n",
       "                    }\n",
       "                }\n",
       "            }, 500);\n",
       "            "
      ],
      "text/plain": [
       "<IPython.core.display.Javascript object>"
      ]
     },
     "metadata": {},
     "output_type": "display_data"
    }
   ],
   "source": [
    "from sklearn.metrics import classification_report,confusion_matrix\n",
    "import seaborn as sns"
   ]
  },
  {
   "cell_type": "code",
   "execution_count": 26,
   "metadata": {},
   "outputs": [
    {
     "name": "stdout",
     "output_type": "stream",
     "text": [
      "313/313 [==============================] - 2s 5ms/step\n"
     ]
    },
    {
     "data": {
      "application/javascript": [
       "\n",
       "            setTimeout(function() {\n",
       "                var nbb_cell_id = 26;\n",
       "                var nbb_unformatted_code = \"y_pred = model.predict(test_padded)\";\n",
       "                var nbb_formatted_code = \"y_pred = model.predict(test_padded)\";\n",
       "                var nbb_cells = Jupyter.notebook.get_cells();\n",
       "                for (var i = 0; i < nbb_cells.length; ++i) {\n",
       "                    if (nbb_cells[i].input_prompt_number == nbb_cell_id) {\n",
       "                        if (nbb_cells[i].get_text() == nbb_unformatted_code) {\n",
       "                             nbb_cells[i].set_text(nbb_formatted_code);\n",
       "                        }\n",
       "                        break;\n",
       "                    }\n",
       "                }\n",
       "            }, 500);\n",
       "            "
      ],
      "text/plain": [
       "<IPython.core.display.Javascript object>"
      ]
     },
     "metadata": {},
     "output_type": "display_data"
    }
   ],
   "source": [
    "y_pred = model.predict(test_padded)"
   ]
  },
  {
   "cell_type": "code",
   "execution_count": 27,
   "metadata": {},
   "outputs": [
    {
     "data": {
      "application/javascript": [
       "\n",
       "            setTimeout(function() {\n",
       "                var nbb_cell_id = 27;\n",
       "                var nbb_unformatted_code = \"rounded_labels_pred=np.argmax(y_pred, axis=1)\\n\\nrounded_labels_test=np.argmax(test_labels, axis=1)\";\n",
       "                var nbb_formatted_code = \"rounded_labels_pred = np.argmax(y_pred, axis=1)\\n\\nrounded_labels_test = np.argmax(test_labels, axis=1)\";\n",
       "                var nbb_cells = Jupyter.notebook.get_cells();\n",
       "                for (var i = 0; i < nbb_cells.length; ++i) {\n",
       "                    if (nbb_cells[i].input_prompt_number == nbb_cell_id) {\n",
       "                        if (nbb_cells[i].get_text() == nbb_unformatted_code) {\n",
       "                             nbb_cells[i].set_text(nbb_formatted_code);\n",
       "                        }\n",
       "                        break;\n",
       "                    }\n",
       "                }\n",
       "            }, 500);\n",
       "            "
      ],
      "text/plain": [
       "<IPython.core.display.Javascript object>"
      ]
     },
     "metadata": {},
     "output_type": "display_data"
    }
   ],
   "source": [
    "rounded_labels_pred=np.argmax(y_pred, axis=1)\n",
    "\n",
    "rounded_labels_test=np.argmax(test_labels, axis=1)\n"
   ]
  },
  {
   "cell_type": "code",
   "execution_count": 28,
   "metadata": {},
   "outputs": [
    {
     "name": "stdout",
     "output_type": "stream",
     "text": [
      "              precision    recall  f1-score   support\n",
      "\n",
      "           0     0.3665    0.2008    0.2594      1046\n",
      "           1     0.5978    0.4306    0.5006       994\n",
      "           2     0.3831    0.3882    0.3856      2004\n",
      "           3     0.1357    0.1098    0.1214       993\n",
      "           4     0.2658    0.3628    0.3068       951\n",
      "           5     0.4578    0.5761    0.5102      2062\n",
      "           6     0.1772    0.1759    0.1766       938\n",
      "           7     0.7455    0.7757    0.7603      1012\n",
      "\n",
      "    accuracy                         0.4008     10000\n",
      "   macro avg     0.3912    0.3775    0.3776     10000\n",
      "weighted avg     0.3997    0.4008    0.3941     10000\n",
      "\n"
     ]
    },
    {
     "data": {
      "application/javascript": [
       "\n",
       "            setTimeout(function() {\n",
       "                var nbb_cell_id = 28;\n",
       "                var nbb_unformatted_code = \"print(classification_report(rounded_labels_test, rounded_labels_pred, digits=4))\";\n",
       "                var nbb_formatted_code = \"print(classification_report(rounded_labels_test, rounded_labels_pred, digits=4))\";\n",
       "                var nbb_cells = Jupyter.notebook.get_cells();\n",
       "                for (var i = 0; i < nbb_cells.length; ++i) {\n",
       "                    if (nbb_cells[i].input_prompt_number == nbb_cell_id) {\n",
       "                        if (nbb_cells[i].get_text() == nbb_unformatted_code) {\n",
       "                             nbb_cells[i].set_text(nbb_formatted_code);\n",
       "                        }\n",
       "                        break;\n",
       "                    }\n",
       "                }\n",
       "            }, 500);\n",
       "            "
      ],
      "text/plain": [
       "<IPython.core.display.Javascript object>"
      ]
     },
     "metadata": {},
     "output_type": "display_data"
    }
   ],
   "source": [
    "print(classification_report(rounded_labels_test, rounded_labels_pred, digits=4))"
   ]
  },
  {
   "cell_type": "code",
   "execution_count": 29,
   "metadata": {},
   "outputs": [
    {
     "data": {
      "application/javascript": [
       "\n",
       "            setTimeout(function() {\n",
       "                var nbb_cell_id = 29;\n",
       "                var nbb_unformatted_code = \"cm = confusion_matrix(rounded_labels_test, rounded_labels_pred)\\ncm_df = pd.DataFrame(cm,\\n                     index = gnrlist,\\n                     columns = gnrlist,\\n                     )\";\n",
       "                var nbb_formatted_code = \"cm = confusion_matrix(rounded_labels_test, rounded_labels_pred)\\ncm_df = pd.DataFrame(cm, index=gnrlist, columns=gnrlist,)\";\n",
       "                var nbb_cells = Jupyter.notebook.get_cells();\n",
       "                for (var i = 0; i < nbb_cells.length; ++i) {\n",
       "                    if (nbb_cells[i].input_prompt_number == nbb_cell_id) {\n",
       "                        if (nbb_cells[i].get_text() == nbb_unformatted_code) {\n",
       "                             nbb_cells[i].set_text(nbb_formatted_code);\n",
       "                        }\n",
       "                        break;\n",
       "                    }\n",
       "                }\n",
       "            }, 500);\n",
       "            "
      ],
      "text/plain": [
       "<IPython.core.display.Javascript object>"
      ]
     },
     "metadata": {},
     "output_type": "display_data"
    }
   ],
   "source": [
    "cm = confusion_matrix(rounded_labels_test, rounded_labels_pred)\n",
    "cm_df = pd.DataFrame(cm,\n",
    "                     index = gnrlist,\n",
    "                     columns = gnrlist,\n",
    "                     )"
   ]
  },
  {
   "cell_type": "code",
   "execution_count": 30,
   "metadata": {},
   "outputs": [
    {
     "data": {
      "image/png": "[encoded data removed]",
      "text/plain": [
       "<Figure size 720x720 with 2 Axes>"
      ]
     },
     "metadata": {
      "needs_background": "light"
     },
     "output_type": "display_data"
    },
    {
     "data": {
      "application/javascript": [
       "\n",
       "            setTimeout(function() {\n",
       "                var nbb_cell_id = 30;\n",
       "                var nbb_unformatted_code = \"plt.figure(figsize=(10,10))\\nsns.heatmap(cm_df,annot=True, fmt='g')\\nplt.title('Confusion Matrix')\\nplt.ylabel('Actual Values')\\nplt.xlabel('Predicted Values')\\nplt.show()\";\n",
       "                var nbb_formatted_code = \"plt.figure(figsize=(10, 10))\\nsns.heatmap(cm_df, annot=True, fmt=\\\"g\\\")\\nplt.title(\\\"Confusion Matrix\\\")\\nplt.ylabel(\\\"Actual Values\\\")\\nplt.xlabel(\\\"Predicted Values\\\")\\nplt.show()\";\n",
       "                var nbb_cells = Jupyter.notebook.get_cells();\n",
       "                for (var i = 0; i < nbb_cells.length; ++i) {\n",
       "                    if (nbb_cells[i].input_prompt_number == nbb_cell_id) {\n",
       "                        if (nbb_cells[i].get_text() == nbb_unformatted_code) {\n",
       "                             nbb_cells[i].set_text(nbb_formatted_code);\n",
       "                        }\n",
       "                        break;\n",
       "                    }\n",
       "                }\n",
       "            }, 500);\n",
       "            "
      ],
      "text/plain": [
       "<IPython.core.display.Javascript object>"
      ]
     },
     "metadata": {},
     "output_type": "display_data"
    }
   ],
   "source": [
    "plt.figure(figsize=(10,10))\n",
    "sns.heatmap(cm_df,annot=True, fmt='g')\n",
    "plt.title('Confusion Matrix')\n",
    "plt.ylabel('Actual Values')\n",
    "plt.xlabel('Predicted Values')\n",
    "plt.show()"
   ]
  },
  {
   "cell_type": "code",
   "execution_count": null,
   "metadata": {},
   "outputs": [],
   "source": []
  }
 ],
 "metadata": {
  "kernelspec": {
   "display_name": "Python 3 (ipykernel)",
   "language": "python",
   "name": "python3"
  },
  "language_info": {
   "codemirror_mode": {
    "name": "ipython",
    "version": 3
   },
   "file_extension": ".py",
   "mimetype": "text/x-python",
   "name": "python",
   "nbconvert_exporter": "python",
   "pygments_lexer": "ipython3",
   "version": "3.9.12"
  }
 },
 "nbformat": 4,
 "nbformat_minor": 4
}
